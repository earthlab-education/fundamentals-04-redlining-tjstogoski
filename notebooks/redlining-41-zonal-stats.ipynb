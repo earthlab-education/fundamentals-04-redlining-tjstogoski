{
  "cells": [
    {
      "cell_type": "markdown",
      "metadata": {},
      "source": [
        "# STEP 6: Calculate zonal statistics\n",
        "\n",
        "In order to evaluate the connection between vegetation health and\n",
        "redlining, we need to summarize NDVI across the same geographic areas as\n",
        "we have redlining information.\n",
        "\n",
        "First, import variables from previous notebooks:"
      ],
      "id": "c6d4416c-848e-45b9-b5f0-b22939521c17"
    },
    {
      "cell_type": "code",
      "execution_count": 1,
      "metadata": {},
      "outputs": [],
      "source": [
        "store -r denver_redlining_gdf denver_ndvi_da"
      ],
      "id": "8f1f6fdf"
    },
    {
      "cell_type": "markdown",
      "metadata": {},
      "source": [
        "<link rel=\"stylesheet\" type=\"text/css\" href=\"./assets/styles.css\"><div class=\"callout callout-style-default callout-titled callout-task\"><div class=\"callout-header\"><div class=\"callout-icon-container\"><i class=\"callout-icon\"></i></div><div class=\"callout-title-container flex-fill\">Try It: Import packages</div></div><div class=\"callout-body-container callout-body\"><p>Some packages are included that will help you calculate statistics\n",
        "for areas imported below. Add packages for:</p>\n",
        "<ol type=\"1\">\n",
        "<li>Interactive plotting of tabular and vector data</li>\n",
        "<li>Working with categorical data in <code>DataFrame</code>s</li>\n",
        "</ol></div></div>"
      ],
      "id": "0892b3e0-9c80-4c96-bfd4-be5f96b47fb4"
    },
    {
      "cell_type": "code",
      "execution_count": 2,
      "metadata": {
        "highlight": true
      },
      "outputs": [],
      "source": [
        "# Interactive plots with pandas\n",
        "# Ordered categorical data\n",
        "import regionmask # Convert shapefile to mask\n",
        "from xrspatial import zonal_stats # Calculate zonal statistics"
      ],
      "id": "1962e9a6"
    },
    {
      "cell_type": "markdown",
      "metadata": {},
      "source": [
        "<link rel=\"stylesheet\" type=\"text/css\" href=\"./assets/styles.css\"><div class=\"callout callout-style-default callout-titled callout-task\"><div class=\"callout-header\"><div class=\"callout-icon-container\"><i class=\"callout-icon\"></i></div><div class=\"callout-title-container flex-fill\">Try It: Convert vector to raster</div></div><div class=\"callout-body-container callout-body\"><p>You can convert your vector data to a raster mask using the\n",
        "<code>regionmask</code> package. You will need to give\n",
        "<code>regionmask</code> the geographic coordinates of the grid you are\n",
        "using for this to work:</p>\n",
        "<ol type=\"1\">\n",
        "<li>Replace <code>gdf</code> with your redlining\n",
        "<code>GeoDataFrame</code>.</li>\n",
        "<li>Add code to put your <code>GeoDataFrame</code> in the same CRS as\n",
        "your raster data.</li>\n",
        "<li>Replace <code>x_coord</code> and <code>y_coord</code> with the x and\n",
        "y coordinates from your raster data.</li>\n",
        "</ol></div></div>"
      ],
      "id": "3a9e01b4-ccea-4b3f-9e7f-785db5177aed"
    },
    {
      "cell_type": "code",
      "execution_count": 4,
      "metadata": {
        "highlight": true
      },
      "outputs": [],
      "source": [
        "denver_redlining_mask = regionmask.mask_geopandas(\n",
        "    gdf,\n",
        "    x_coord, y_coord,\n",
        "    # The regions do not overlap\n",
        "    overlap=False,\n",
        "    # We're not using geographic coordinates\n",
        "    wrap_lon=False\n",
        ")"
      ],
      "id": "d71e0470"
    },
    {
      "cell_type": "markdown",
      "metadata": {},
      "source": [
        "<link rel=\"stylesheet\" type=\"text/css\" href=\"./assets/styles.css\"><div class=\"callout callout-style-default callout-titled callout-task\"><div class=\"callout-header\"><div class=\"callout-icon-container\"><i class=\"callout-icon\"></i></div><div class=\"callout-title-container flex-fill\">Try It: Calculate zonal statistics</div></div><div class=\"callout-body-container callout-body\"><p>Calculate zonal status using the <code>zonal_stats()</code> function.\n",
        "To figure out which arguments it needs, use either the\n",
        "<code>help()</code> function in Python, or search the internet.</p></div></div>"
      ],
      "id": "e6f5fd47-953e-4a0b-8a06-79b9bc7203b2"
    },
    {
      "cell_type": "code",
      "execution_count": 6,
      "metadata": {
        "highlight": true
      },
      "outputs": [],
      "source": [
        "# Calculate NDVI stats for each redlining zone"
      ],
      "id": "e3b82bef"
    },
    {
      "cell_type": "markdown",
      "metadata": {},
      "source": [
        "<link rel=\"stylesheet\" type=\"text/css\" href=\"./assets/styles.css\"><div class=\"callout callout-style-default callout-titled callout-task\"><div class=\"callout-header\"><div class=\"callout-icon-container\"><i class=\"callout-icon\"></i></div><div class=\"callout-title-container flex-fill\">Try It: Plot regional statistics</div></div><div class=\"callout-body-container callout-body\"><p>Plot the regional statistics:</p>\n",
        "<ol type=\"1\">\n",
        "<li>Merge the NDVI values into the redlining\n",
        "<code>GeoDataFrame</code>.</li>\n",
        "<li>Use the code template below to convert the <code>grade</code> column\n",
        "(<code>str</code> or <code>object</code> type) to an ordered\n",
        "<code>pd.Categorical</code> type. This will let you use ordered color\n",
        "maps with the grade data!</li>\n",
        "<li>Drop all <code>NA</code> grade values.</li>\n",
        "<li>Plot the NDVI and the redlining grade next to each other in linked\n",
        "subplots.</li>\n",
        "</ol></div></div>"
      ],
      "id": "d14c6bd6-b3d4-4bd3-b880-190929833e3e"
    },
    {
      "cell_type": "code",
      "execution_count": 8,
      "metadata": {
        "highlight": true
      },
      "outputs": [],
      "source": [
        "# Merge the NDVI stats with redlining geometry into one `GeoDataFrame`\n",
        "\n",
        "# Change grade to ordered Categorical for plotting\n",
        "gdf.grade = pd.Categorical(\n",
        "    gdf.grade,\n",
        "    ordered=True,\n",
        "    categories=['A', 'B', 'C', 'D']\n",
        ")\n",
        "\n",
        "# Drop rows with NA grades\n",
        "denver_ndvi_gdf = denver_ndvi_gdf.dropna()\n",
        "\n",
        "# Plot NDVI and redlining grade in linked subplots"
      ],
      "id": "7a0a1bc9"
    },
    {
      "cell_type": "code",
      "execution_count": 10,
      "metadata": {},
      "outputs": [],
      "source": [
        "store denver_ndvi_gdf"
      ],
      "id": "ed98342c"
    }
  ],
  "nbformat": 4,
  "nbformat_minor": 5,
  "metadata": {
    "kernelspec": {
      "name": "python3",
      "display_name": "Python 3 (ipykernel)",
      "language": "python"
    }
  }
}